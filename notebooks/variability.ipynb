version https://git-lfs.github.com/spec/v1
oid sha256:860c34a0896ac0387a69f1fefefe6b69fa09ad0207271de8ab8ae6966f519d83
size 743961
