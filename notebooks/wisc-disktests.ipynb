version https://git-lfs.github.com/spec/v1
oid sha256:27d6475040962e8cd8b2878fd847be8e3d5ce6f88c5cc3cb6f25d3318742a15d
size 1236616
